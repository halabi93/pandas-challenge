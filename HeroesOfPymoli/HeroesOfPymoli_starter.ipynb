{
 "cells": [
  {
   "cell_type": "markdown",
   "metadata": {},
   "source": [
    "### Note\n",
    "* Instructions have been included for each segment. You do not have to follow them exactly, but they are included to help you think through the steps."
   ]
  },
  {
   "cell_type": "code",
   "execution_count": null,
   "metadata": {},
   "outputs": [],
   "source": [
    "# Dependencies and Setup\n",
    "import pandas as pd\n",
    "import os\n",
    "\n",
    "# File to Load (Remember to Change These)\n",
    "file_to_load = os.path.join(\"Resources\", \"purchase_data.csv\")\n",
    "\n",
    "# Read Purchasing File and store into Pandas data frame\n",
    "purchase_data = pd.read_csv(file_to_load)\n",
    "purchase_data.head()"
   ]
  },
  {
   "cell_type": "markdown",
   "metadata": {},
   "source": [
    "## Player Count"
   ]
  },
  {
   "cell_type": "markdown",
   "metadata": {},
   "source": [
    "* Display the total number of players\n"
   ]
  },
  {
   "cell_type": "code",
   "execution_count": null,
   "metadata": {},
   "outputs": [],
   "source": [
    "total_number_df = pd.DataFrame([{\"Total Players\": len(purchase_data)}])\n",
    "total_number_df"
   ]
  },
  {
   "cell_type": "markdown",
   "metadata": {},
   "source": [
    "## Purchasing Analysis (Total)"
   ]
  },
  {
   "cell_type": "markdown",
   "metadata": {},
   "source": [
    "* Run basic calculations to obtain number of unique items, average price, etc.\n",
    "\n",
    "\n",
    "* Create a summary data frame to hold the results\n",
    "\n",
    "\n",
    "* Optional: give the displayed data cleaner formatting\n",
    "\n",
    "\n",
    "* Display the summary data frame\n"
   ]
  },
  {
   "cell_type": "code",
   "execution_count": null,
   "metadata": {
    "scrolled": true
   },
   "outputs": [],
   "source": [
    "purchase_data.count()\n",
    "purchasing_analysis = [{\n",
    "    \"Number of Unique Items\": len(purchase_data.groupby([\"Item ID\"])),\n",
    "    \"Average Price\": '${:,.2f}'.format(purchase_data[\"Price\"].sum()/len(purchase_data)),\n",
    "    \"Number of Purchases\": len(purchase_data),\n",
    "    \"Total Revenue\": '${:,.2f}'.format(purchase_data[\"Price\"].sum())\n",
    "    }]\n",
    "purchasing_analysis_df = pd.DataFrame(purchasing_analysis)\n",
    "purchasing_analysis_df.head()"
   ]
  },
  {
   "cell_type": "markdown",
   "metadata": {},
   "source": [
    "## Gender Demographics"
   ]
  },
  {
   "cell_type": "markdown",
   "metadata": {},
   "source": [
    "* Percentage and Count of Male Players\n",
    "\n",
    "\n",
    "* Percentage and Count of Female Players\n",
    "\n",
    "\n",
    "* Percentage and Count of Other / Non-Disclosed\n",
    "\n",
    "\n"
   ]
  },
  {
   "cell_type": "code",
   "execution_count": null,
   "metadata": {},
   "outputs": [],
   "source": [
    "purchase_data_unique_df = purchase_data.drop_duplicates([\"SN\"],keep=\"first\")\n",
    "gender_demographics = pd.DataFrame(purchase_data_unique_df[\"Gender\"].value_counts())\n",
    "gender_demographics.columns = [\"Total Count\"]\n",
    "\n",
    "total_users = gender_demographics[\"Total Count\"].sum()\n",
    "gender_demographics[\"Percentage\"] = [round((x/total_users)*100,2) for x in gender_demographics[\"Total Count\"]]\n",
    "gender_demographics[\"Percentage\"] = gender_demographics[\"Percentage\"].astype(str)+\"%\"\n",
    "gender_demographics"
   ]
  },
  {
   "cell_type": "markdown",
   "metadata": {},
   "source": [
    "\n",
    "## Purchasing Analysis (Gender)"
   ]
  },
  {
   "cell_type": "markdown",
   "metadata": {},
   "source": [
    "* Run basic calculations to obtain purchase count, avg. purchase price, avg. purchase total per person etc. by gender\n",
    "\n",
    "\n",
    "\n",
    "\n",
    "* Create a summary data frame to hold the results\n",
    "\n",
    "\n",
    "* Optional: give the displayed data cleaner formatting\n",
    "\n",
    "\n",
    "* Display the summary data frame"
   ]
  },
  {
   "cell_type": "code",
   "execution_count": null,
   "metadata": {},
   "outputs": [],
   "source": [
    "# Get Purchase Count by Gender\n",
    "male_purchases = purchase_data.loc[purchase_data[\"Gender\"]==\"Male\",[\"Price\"]]\n",
    "female_purchases = purchase_data.loc[purchase_data[\"Gender\"]==\"Female\",[\"Price\"]]\n",
    "other_purchases = purchase_data.loc[purchase_data[\"Gender\"]==\"Other / Non-Disclosed\",[\"Price\"]]\n",
    "\n",
    "# Set the values for Total, Average, and Count of purchases per gender value\n",
    "total_male_purchase = round(float(male_purchases.sum()),2)\n",
    "total_female_purchase = round(float(female_purchases.sum()),2)\n",
    "total_other_purchase = round(float(other_purchases.sum()),2)\n",
    "\n",
    "avg_male_purchase = round(float(male_purchases.mean()),2)\n",
    "avg_female_purchase = round(float(female_purchases.mean()),2)\n",
    "avg_other_purchase = round(float(other_purchases.mean()),2)\n",
    "\n",
    "num_male_purchase = round(int(male_purchases.count()),2)\n",
    "num_female_purchase = round(int(female_purchases.count()),2)\n",
    "num_other_purchase = round(int(other_purchases.count()),2)\n",
    "\n",
    "# Copy the previous dataframe\n",
    "gender_summary = gender_demographics\n",
    "\n",
    "# Create new columns: Purchase Count, Average Purchase Price, Total Purchase Value, and Avg Total Purchase per Person\n",
    "gender_summary[\"Purchase Count\"] = [num_male_purchase,num_female_purchase,num_other_purchase]\n",
    "gender_summary[\"Average Purchase Price\"] = [avg_male_purchase,avg_female_purchase,avg_other_purchase]\n",
    "gender_summary[\"Total Purchase Value\"] = [total_male_purchase,total_female_purchase,total_other_purchase]\n",
    "gender_summary[\"Total Count\"] = gender_summary[\"Total Count\"].astype(float)\n",
    "gender_summary[\"Avg Total Purchase per Person\"] = round(gender_summary[\"Total Purchase Value\"]/gender_summary[\"Total Count\"],2)\n",
    "\n",
    "# Remove columns from previous exercise\n",
    "gender_summary = gender_summary[[\"Purchase Count\",\"Average Purchase Price\",\"Total Purchase Value\",\"Avg Total Purchase per Person\"]]\n",
    "\n",
    "#Formatting \n",
    "gender_summary[\"Average Purchase Price\"] = \"$\" + gender_summary[\"Average Purchase Price\"].astype(str)\n",
    "gender_summary[\"Total Purchase Value\"] = \"$\" + gender_summary[\"Total Purchase Value\"].astype(str)\n",
    "gender_summary[\"Avg Total Purchase per Person\"] = \"$\" + gender_summary[\"Avg Total Purchase per Person\"].astype(str)\n",
    "\n",
    "gender_summary"
   ]
  },
  {
   "cell_type": "markdown",
   "metadata": {},
   "source": [
    "## Age Demographics"
   ]
  },
  {
   "cell_type": "markdown",
   "metadata": {},
   "source": [
    "* Establish bins for ages\n",
    "\n",
    "\n",
    "* Categorize the existing players using the age bins. Hint: use pd.cut()\n",
    "\n",
    "\n",
    "* Calculate the numbers and percentages by age group\n",
    "\n",
    "\n",
    "* Create a summary data frame to hold the results\n",
    "\n",
    "\n",
    "* Optional: round the percentage column to two decimal points\n",
    "\n",
    "\n",
    "* Display Age Demographics Table\n"
   ]
  },
  {
   "cell_type": "code",
   "execution_count": null,
   "metadata": {},
   "outputs": [],
   "source": [
    "# Get the lowest and highest age in the purchase_data\n",
    "low = purchase_data[\"Age\"].min()\n",
    "high = purchase_data[\"Age\"].max()\n",
    "\n",
    "# Create the age bins\n",
    "age_bins = [low, 9, 14, 19, 24, 29, 34, 39, high]\n",
    "\n",
    "# Create a list of labels to associate with the bins\n",
    "bin_labels = [\"<10\",\"10-14\",\"15-19\",\"20-24\",\"25-29\",\"30-34\",\"35-39\",\"40+\"]\n",
    "\n",
    "# Create new column for bins\n",
    "purchase_data_unique_df[\"Age Group\"] = pd.cut(purchase_data_unique_df[\"Age\"],age_bins,labels=bin_labels)\n",
    "\n",
    "# Create GroupBy object\n",
    "age_in_bin = purchase_data_unique_df.groupby([\"Age Group\"])\n",
    "\n",
    "# Create a dataframe from the count of the Age column\n",
    "age_in_bin_df = pd.DataFrame(age_in_bin[\"Age\"].count())\n",
    "\n",
    "# Rename Total column and Add Percentage column\n",
    "age_in_bin_df.columns = ['Total Count']\n",
    "age_in_bin_df[\"Percentage\"] = (round(age_in_bin_df[\"Total Count\"]/len(purchase_data_unique_df)*100,2)).astype(str)+\"%\"\n",
    "\n",
    "age_in_bin_df"
   ]
  },
  {
   "cell_type": "markdown",
   "metadata": {},
   "source": [
    "## Purchasing Analysis (Age)"
   ]
  },
  {
   "cell_type": "markdown",
   "metadata": {},
   "source": [
    "* Bin the purchase_data data frame by age\n",
    "\n",
    "\n",
    "* Run basic calculations to obtain purchase count, avg. purchase price, avg. purchase total per person etc. in the table below\n",
    "\n",
    "\n",
    "* Create a summary data frame to hold the results\n",
    "\n",
    "\n",
    "* Optional: give the displayed data cleaner formatting\n",
    "\n",
    "\n",
    "* Display the summary data frame"
   ]
  },
  {
   "cell_type": "code",
   "execution_count": null,
   "metadata": {},
   "outputs": [],
   "source": [
    "# Find Total Purchase Count by Age Group\n",
    "count_binned = pd.DataFrame(age_in_bin[\"Price\"].count())\n",
    "count_binned.columns = [\"Purchase Count\"]\n",
    "count_binned.reset_index(inplace=True)\n",
    "\n",
    "# Find Average Purchase Price by Age Group\n",
    "average_binned = pd.DataFrame(round(age_in_bin[\"Price\"].mean(),2))\n",
    "average_binned.columns = [\"Average Purchase Price\"]\n",
    "average_binned.reset_index(inplace=True)\n",
    "\n",
    "# Find Total Amount spent by Age Group\n",
    "sum_binned = pd.DataFrame(round(age_in_bin[\"Price\"].sum(),2))\n",
    "sum_binned.columns = ['Total Purchase Value']\n",
    "sum_binned.reset_index(inplace=True)\n",
    "\n",
    "# Merge dfs\n",
    "merged_bins = pd.merge(count_binned,average_binned,on=\"Age Group\")\n",
    "merged_bins = pd.merge(merged_bins,sum_binned,on=\"Age Group\")\n",
    "\n",
    "\n",
    "merged_bins[\"Avg Total Purchase per Person\"] = merged_bins[\"Total Purchase Value\"]/age_in_bin_df[\"Total Count\"].astype(float)\n",
    "\n",
    "# Formatting\n",
    "merged_bins[\"Average Purchase Price\"] = \"$\" + merged_bins[\"Average Purchase Price\"].astype(str)\n",
    "merged_bins[\"Total Purchase Value\"] = \"$\" + merged_bins[\"Total Purchase Value\"].astype(str)\n",
    "merged_bins[\"Avg Total Purchase per Person\"] = \"$\" + merged_bins[\"Avg Total Purchase per Person\"].astype(str)\n",
    "\n",
    "merged_bins"
   ]
  },
  {
   "cell_type": "markdown",
   "metadata": {},
   "source": [
    "## Top Spenders"
   ]
  },
  {
   "cell_type": "markdown",
   "metadata": {},
   "source": [
    "* Run basic calculations to obtain the results in the table below\n",
    "\n",
    "\n",
    "* Create a summary data frame to hold the results\n",
    "\n",
    "\n",
    "* Sort the total purchase value column in descending order\n",
    "\n",
    "\n",
    "* Optional: give the displayed data cleaner formatting\n",
    "\n",
    "\n",
    "* Display a preview of the summary data frame\n",
    "\n"
   ]
  },
  {
   "cell_type": "code",
   "execution_count": null,
   "metadata": {},
   "outputs": [],
   "source": [
    "group_by_sn = purchase_data.groupby([\"SN\"])\n",
    "\n",
    "# Find the sum of the price column per screenname\n",
    "user_spent = pd.DataFrame(group_by_sn[\"Price\"].sum())\n",
    "user_count = pd.DataFrame(group_by_sn[\"SN\"].count())\n",
    "\n",
    "user_spent.columns = [\"Total Purchase Value\"]\n",
    "user_count.columns = [\"Purchase Count\"]\n",
    "\n",
    "user_spent.reset_index(inplace=True)\n",
    "user_count.reset_index(inplace=True)\n",
    "\n",
    "# Merge the two dfs together\n",
    "top_spenders_reordered = pd.merge(user_spent,user_count,on=\"SN\")\n",
    "\n",
    "# Sort the values by Total Purchase Value\n",
    "top_spenders_reordered = top_spenders_reordered.sort_values(\"Total Purchase Value\",ascending=False)\n",
    "\n",
    "\n",
    "# Add a column for Average Purchase Price\n",
    "top_spenders_reordered[\"Average Purchase Price\"] = round((top_spenders_reordered[\"Total Purchase Value\"] / top_spenders_reordered[\"Purchase Count\"]),2)\n",
    "\n",
    "# Reorder columns, reset index\n",
    "top_spenders_reordered = top_spenders_reordered[[\"SN\",\"Purchase Count\",\"Average Purchase Price\",\"Total Purchase Value\"]]\n",
    "top_spenders_reordered.reset_index(inplace=True,drop=True)\n",
    "\n",
    "#Formatting\n",
    "top_spenders_reordered[\"Average Purchase Price\"] = \"$\" + (round(top_spenders_reordered[\"Average Purchase Price\"],2)).astype(str)\n",
    "top_spenders_reordered[\"Total Purchase Value\"] = \"$\" + (round(top_spenders_reordered[\"Total Purchase Value\"],2)).astype(str)\n",
    "\n",
    "top_spenders_reordered.head()"
   ]
  },
  {
   "cell_type": "markdown",
   "metadata": {},
   "source": [
    "## Most Popular Items"
   ]
  },
  {
   "cell_type": "markdown",
   "metadata": {},
   "source": [
    "* Retrieve the Item ID, Item Name, and Item Price columns\n",
    "\n",
    "\n",
    "* Group by Item ID and Item Name. Perform calculations to obtain purchase count, average item price, and total purchase value\n",
    "\n",
    "\n",
    "* Create a summary data frame to hold the results\n",
    "\n",
    "\n",
    "* Sort the purchase count column in descending order\n",
    "\n",
    "\n",
    "* Optional: give the displayed data cleaner formatting\n",
    "\n",
    "\n",
    "* Display a preview of the summary data frame\n",
    "\n"
   ]
  },
  {
   "cell_type": "code",
   "execution_count": null,
   "metadata": {},
   "outputs": [],
   "source": [
    "# Group by Item Name\n",
    "by_item = purchase_data.groupby([\"Item Name\"])\n",
    "\n",
    "\n",
    "# Count by Item ID to get Purchase Count\n",
    "number_sold = pd.DataFrame(by_item[\"Item ID\"].count())\n",
    "number_sold.columns = [\"Purchase Count\"]\n",
    "number_sold.reset_index(inplace=True)\n",
    "\n",
    "# Take the average of the price column for Item Price\n",
    "# (Some items are sold at different prices)\n",
    "item_price = pd.DataFrame(round(by_item[\"Price\"].mean(),2))\n",
    "item_price.columns = [\"Item Price\"]\n",
    "item_price.reset_index(inplace=True)\n",
    "\n",
    "# Take the sum of the Price column for the total revenue per item\n",
    "total_value = pd.DataFrame(by_item[\"Price\"].sum())\n",
    "total_value.columns = [\"Total Purchase Value\"]\n",
    "total_value.reset_index(inplace=True)\n",
    "\n",
    "# Take the max of the Item ID column to pull the Item ID\n",
    "item_id = pd.DataFrame(by_item[\"Item ID\"].max())\n",
    "item_id.reset_index(inplace=True)\n",
    "\n",
    "# Merge the dfs together\n",
    "merged_byitem = pd.merge(number_sold,item_price,on=\"Item Name\")\n",
    "merged_byitem = pd.merge(merged_byitem,total_value,on=\"Item Name\")\n",
    "merged_byitem = pd.merge(merged_byitem,item_id,on=\"Item Name\")\n",
    "\n",
    "# Reorder columns\n",
    "merged_byitem = merged_byitem[[\"Item ID\", \"Item Name\", \"Purchase Count\", \"Item Price\", \"Total Purchase Value\"]]\n",
    "\n",
    "# Sorting by Purchase Count with Total Purchase Value as Tie breaker\n",
    "merged_byitem = merged_byitem.sort_values(by=[\"Purchase Count\", \"Total Purchase Value\"], ascending=False)\n",
    "\n",
    "# Formatting\n",
    "merged_byitem_formatted = merged_byitem\n",
    "merged_byitem_formatted[\"Item Price\"] = \"$\" + merged_byitem_formatted[\"Item Price\"].astype(str)\n",
    "merged_byitem_formatted[\"Total Purchase Value\"] = \"$\" + (round(merged_byitem_formatted[\"Total Purchase Value\"],2)).astype(str)\n",
    "\n",
    "merged_byitem_formatted.head()"
   ]
  },
  {
   "cell_type": "markdown",
   "metadata": {},
   "source": [
    "## Most Profitable Items"
   ]
  },
  {
   "cell_type": "markdown",
   "metadata": {},
   "source": [
    "* Sort the above table by total purchase value in descending order\n",
    "\n",
    "\n",
    "* Optional: give the displayed data cleaner formatting\n",
    "\n",
    "\n",
    "* Display a preview of the data frame\n",
    "\n"
   ]
  },
  {
   "cell_type": "code",
   "execution_count": null,
   "metadata": {
    "scrolled": true
   },
   "outputs": [],
   "source": [
    "# Sorting by Purchase Count with Total Purchase Value as Tie breaker\n",
    "merged_byitem[\"Total Purchase Value\"] = merged_byitem[\"Total Purchase Value\"].str.replace(\"$\", \"\", regex=True)\n",
    "merged_byitem[\"Total Purchase Value\"] = merged_byitem[\"Total Purchase Value\"].astype(float)\n",
    "\n",
    "# Sorting by Purchase Count with Total Purchase Value as Tie breaker\n",
    "merged_byitem = merged_byitem.sort_values(by=[\"Total Purchase Value\"], ascending=False)\n",
    "\n",
    "# Formatting\n",
    "merged_byitem[\"Total Purchase Value\"] = \"$\" + (round(merged_byitem[\"Total Purchase Value\"],2)).astype(str)\n",
    "\n",
    "merged_byitem.head()"
   ]
  }
 ],
 "metadata": {
  "anaconda-cloud": {},
  "kernel_info": {
   "name": "python3"
  },
  "kernelspec": {
   "display_name": "Python 3",
   "language": "python",
   "name": "python3"
  },
  "language_info": {
   "codemirror_mode": {
    "name": "ipython",
    "version": 3
   },
   "file_extension": ".py",
   "mimetype": "text/x-python",
   "name": "python",
   "nbconvert_exporter": "python",
   "pygments_lexer": "ipython3",
   "version": "3.9.7"
  },
  "latex_envs": {
   "LaTeX_envs_menu_present": true,
   "autoclose": false,
   "autocomplete": true,
   "bibliofile": "biblio.bib",
   "cite_by": "apalike",
   "current_citInitial": 1,
   "eqLabelWithNumbers": true,
   "eqNumInitial": 1,
   "hotkeys": {
    "equation": "Ctrl-E",
    "itemize": "Ctrl-I"
   },
   "labels_anchors": false,
   "latex_user_defs": false,
   "report_style_numbering": false,
   "user_envs_cfg": false
  },
  "nteract": {
   "version": "0.2.0"
  }
 },
 "nbformat": 4,
 "nbformat_minor": 2
}
